{
 "metadata": {
  "name": "Introduction and Usage of the Holographic Library"
 },
 "nbformat": 3,
 "nbformat_minor": 0,
 "worksheets": [
  {
   "cells": [
    {
     "cell_type": "markdown",
     "metadata": {},
     "source": [
      "# Introduction and Usage of the Holographic Reduced Representations Library\n",
      "\n",
      "Copyright &copy; Andrew Mundy 2013\n",
      "\n",
      "The Holographic Reduced Representations library (`Holographic`) provides a means of testing concepts used within models such as [Spaun](http://nengo.ca) without necessitating use of nengo itself.  Through using Python quick illustration of complex models and systems may be made.\n",
      "\n",
      "This document serves as a basic introduction to the use of this library.\n",
      "\n",
      "## First Steps: Including the Library\n",
      "\n",
      "Assuming that the library is in your Python path (or you are in an appropriate directory) everything can be imported as required."
     ]
    },
    {
     "cell_type": "code",
     "collapsed": false,
     "input": [
      "from Holographic import *\n",
      "from Holographic.Symbol import *"
     ],
     "language": "python",
     "metadata": {},
     "outputs": [],
     "prompt_number": 1
    },
    {
     "cell_type": "markdown",
     "metadata": {},
     "source": [
      "## Generating and Using Symbols\n",
      "\n",
      "Since the latest release it has become standard to use a `SymbolFactory` as a source of Symbols.  This ensures that all symbols are conformant and provides a useful layer of abstraction for when more complex symbol types (such as saturating symbols) are required.\n",
      "\n",
      "A factory is instantiated with a dimensionality, a vector generator (a default is provided by the library) and a function which accepts and label and a vector and returns a Symbol of the desired type.  The most vanilla factory we can construct is this:"
     ]
    },
    {
     "cell_type": "code",
     "collapsed": false,
     "input": [
      "factory = SymbolFactory( 500, vec_generate, Symbol )"
     ],
     "language": "python",
     "metadata": {},
     "outputs": [],
     "prompt_number": 2
    },
    {
     "cell_type": "markdown",
     "metadata": {},
     "source": [
      "We can then use this to generate various symbols, for example:"
     ]
    },
    {
     "cell_type": "code",
     "collapsed": false,
     "input": [
      "a = factory.new_symbol( 'a' )\n",
      "b = factory.new_symbol( 'b' )"
     ],
     "language": "python",
     "metadata": {},
     "outputs": [],
     "prompt_number": 3
    },
    {
     "cell_type": "markdown",
     "metadata": {},
     "source": [
      "These symbols may be bound and unbound as desired:"
     ]
    },
    {
     "cell_type": "code",
     "collapsed": false,
     "input": [
      "c = a.bind( b )\n",
      "print c\n",
      "\n",
      "d = c.unbind( a )\n",
      "print d"
     ],
     "language": "python",
     "metadata": {},
     "outputs": [
      {
       "output_type": "stream",
       "stream": "stdout",
       "text": [
        "( a (*) b )\n",
        "( ( a (*) b ) (*) a' )\n"
       ]
      }
     ],
     "prompt_number": 4
    },
    {
     "cell_type": "markdown",
     "metadata": {},
     "source": [
      "They may also be compared:"
     ]
    },
    {
     "cell_type": "code",
     "collapsed": false,
     "input": [
      "for s in [a,b,c,d]:\n",
      "    print \"b and %22s:\\t% 5.3f\" % (s, b.compare( s ))"
     ],
     "language": "python",
     "metadata": {},
     "outputs": [
      {
       "output_type": "stream",
       "stream": "stdout",
       "text": [
        "b and                      a:\t 0.002\n",
        "b and                      b:\t 1.000\n",
        "b and            ( a (*) b ):\t 0.092\n",
        "b and ( ( a (*) b ) (*) a' ):\t 0.733\n"
       ]
      }
     ],
     "prompt_number": 5
    },
    {
     "cell_type": "markdown",
     "metadata": {},
     "source": [
      "Various other properties may also be accessed, for example magnitude:"
     ]
    },
    {
     "cell_type": "code",
     "collapsed": false,
     "input": [
      "for s in [a,b,c,d]:\n",
      "    print \"||%22s|| = % 5.3f\" % (s, s.magnitude())"
     ],
     "language": "python",
     "metadata": {},
     "outputs": [
      {
       "output_type": "stream",
       "stream": "stdout",
       "text": [
        "||                     a|| =  1.014\n",
        "||                     b|| =  1.016\n",
        "||           ( a (*) b )|| =  1.048\n",
        "||( ( a (*) b ) (*) a' )|| =  1.474\n"
       ]
      }
     ],
     "prompt_number": 6
    },
    {
     "cell_type": "markdown",
     "metadata": {},
     "source": [
      "Finally, symbols may be composed (+/-), scaled, and exponentiated:"
     ]
    },
    {
     "cell_type": "code",
     "collapsed": false,
     "input": [
      "# Composition (+)\n",
      "ab = a.compose( b )\n",
      "\n",
      "print ab\n",
      "print \"||%s|| = % 5.3f\" % ( ab, ab.magnitude() )"
     ],
     "language": "python",
     "metadata": {},
     "outputs": [
      {
       "output_type": "stream",
       "stream": "stdout",
       "text": [
        "( a + b )\n",
        "||( a + b )|| =  1.436\n"
       ]
      }
     ],
     "prompt_number": 7
    },
    {
     "cell_type": "code",
     "collapsed": false,
     "input": [
      "# Scaling\n",
      "ab2 = ab.scale( 2.0 )\n",
      "\n",
      "print ab2\n",
      "print \"||%s|| = % 5.3f\" % ( ab2, ab2.magnitude() )"
     ],
     "language": "python",
     "metadata": {},
     "outputs": [
      {
       "output_type": "stream",
       "stream": "stdout",
       "text": [
        "( 2.000 ( a + b ) )\n",
        "||( 2.000 ( a + b ) )|| =  2.873\n"
       ]
      }
     ],
     "prompt_number": 8
    },
    {
     "cell_type": "code",
     "collapsed": false,
     "input": [
      "# Exponentiation\n",
      "ab3 = ab.exponentiate( 2.0 )\n",
      "\n",
      "print ab3\n",
      "print \"||%s|| = % 5.3f\" % ( ab3, ab3.magnitude() )"
     ],
     "language": "python",
     "metadata": {},
     "outputs": [
      {
       "output_type": "stream",
       "stream": "stdout",
       "text": [
        "( ( a + b )^{2.000} )\n",
        "||( ( a + b )^{2.000} )|| =  2.902\n"
       ]
      }
     ],
     "prompt_number": 9
    },
    {
     "cell_type": "code",
     "collapsed": false,
     "input": [
      "# Subtraction\n",
      "b_ = b.scale(-1)\n",
      "abb_ = ab.compose( b_ )\n",
      "\n",
      "print b_\n",
      "print abb_\n",
      "\n",
      "print \"\\n%s and %s: %.3f\" % ( a, abb_, a.compare( abb_ ) )"
     ],
     "language": "python",
     "metadata": {},
     "outputs": [
      {
       "output_type": "stream",
       "stream": "stdout",
       "text": [
        "( -1.000 b )\n",
        "( ( a + b ) + ( -1.000 b ) )\n",
        "\n",
        "a and ( ( a + b ) + ( -1.000 b ) ): 1.000\n"
       ]
      }
     ],
     "prompt_number": 10
    },
    {
     "cell_type": "markdown",
     "metadata": {},
     "source": [
      "## Introducing Clean Up Memories\n",
      "\n",
      "Clean Up Memories exist to provide clean copies of symbols that have been utilised (bound or unbound, for example).  The new `CleanUpMemory` is tied to a `SymbolFactory` and will only accept Symbols derived from this factory -- again, this is to ensure conformity.\n",
      "\n",
      "We can construct a vanilla `CleanUpMemory` thusly:"
     ]
    },
    {
     "cell_type": "code",
     "collapsed": false,
     "input": [
      "from Holographic.Memory import CleanUpMemory\n",
      "\n",
      "mem = CleanUpMemory( factory )"
     ],
     "language": "python",
     "metadata": {},
     "outputs": [],
     "prompt_number": 11
    },
    {
     "cell_type": "markdown",
     "metadata": {},
     "source": [
      "We may then add items to the memory."
     ]
    },
    {
     "cell_type": "code",
     "collapsed": false,
     "input": [
      "mem.add_symbol( a )\n",
      "mem.add_symbol( b )"
     ],
     "language": "python",
     "metadata": {},
     "outputs": [],
     "prompt_number": 12
    },
    {
     "cell_type": "markdown",
     "metadata": {},
     "source": [
      "### Cleaning Up Symbols\n",
      "The `clean` function of a `CleanUpMemory` returns an ordered list of Symbols in the memory and the strength of their comparison with a given Symbol.  We can see how this works:"
     ]
    },
    {
     "cell_type": "code",
     "collapsed": false,
     "input": [
      "mem.clean( d )"
     ],
     "language": "python",
     "metadata": {},
     "outputs": [
      {
       "output_type": "pyout",
       "prompt_number": 13,
       "text": [
        "[(0.73325169152837011, <Holographic.Symbol.Symbol at 0x24293d0>),\n",
        " (0.03031867687794506, <Holographic.Symbol.Symbol at 0x2429350>)]"
       ]
      }
     ],
     "prompt_number": 13
    },
    {
     "cell_type": "markdown",
     "metadata": {},
     "source": [
      "Though in most examples we may instead use this technique to better illustrate what's happening:"
     ]
    },
    {
     "cell_type": "code",
     "collapsed": false,
     "input": [
      "def clean_print( memory, symbol ):\n",
      "    print( \"%s is similar to\" % symbol )\n",
      "    for ( c, s ) in memory.clean( symbol ):\n",
      "        print( \"\\t%s:\\t% 5.3f\" % ( s, c ) )\n",
      "\n",
      "clean_print( mem, d )"
     ],
     "language": "python",
     "metadata": {},
     "outputs": [
      {
       "output_type": "stream",
       "stream": "stdout",
       "text": [
        "( ( a (*) b ) (*) a' ) is similar to\n",
        "\tb:\t 0.733\n",
        "\ta:\t 0.030\n"
       ]
      }
     ],
     "prompt_number": 14
    },
    {
     "cell_type": "markdown",
     "metadata": {},
     "source": [
      "To just get the nearest symbol we can use the `cleanest` function:"
     ]
    },
    {
     "cell_type": "code",
     "collapsed": false,
     "input": [
      "print mem.cleanest( d )"
     ],
     "language": "python",
     "metadata": {},
     "outputs": [
      {
       "output_type": "stream",
       "stream": "stdout",
       "text": [
        "b\n"
       ]
      }
     ],
     "prompt_number": 15
    },
    {
     "cell_type": "markdown",
     "metadata": {},
     "source": [
      "## Saturating Symbols\n",
      "An important feature of the NEF/nengo is that all values are represented by the firing rate of populations of neurons.  As a result, saturation can occur if the magnitude of a represented value becomes too great.  In the HRR library this is modelled by the `SaturatingSymbol` class.  Each `SaturatingSymbol` is instantiated with a saturation function which is applied to the components of the vector with which it is instantiated.\n",
      "\n",
      "An example saturation function is:\n",
      "\n",
      "$\\mathrm{sat}( x ) = \\frac{2a}{1 + e^{-bx}} - a$"
     ]
    },
    {
     "cell_type": "code",
     "collapsed": false,
     "input": [
      "%pylab inline\n",
      "from pylab import *"
     ],
     "language": "python",
     "metadata": {},
     "outputs": [
      {
       "output_type": "stream",
       "stream": "stdout",
       "text": [
        "\n",
        "Welcome to pylab, a matplotlib-based Python environment [backend: module://IPython.zmq.pylab.backend_inline].\n",
        "For more information, type 'help(pylab)'.\n"
       ]
      }
     ],
     "prompt_number": 16
    },
    {
     "cell_type": "code",
     "collapsed": false,
     "input": [
      "sat = lambda x : 2.4/( 1 + e ** (-1.75*x) ) - 1.2\n",
      "\n",
      "xs = linspace( -2, 2, 200 )\n",
      "ys = vectorize( sat )( xs )\n",
      "\n",
      "figure()\n",
      "xlabel( \"Input Strength\" )\n",
      "ylabel( \"Saturated Strength\" )\n",
      "title( \"Saturation of Input\" )\n",
      "\n",
      "# Axes lines\n",
      "axhline( y=0, color='gray' )\n",
      "axvline( x=0, color='gray' )\n",
      "\n",
      "# Interpretation lines\n",
      "print \"Value\\tSaturated\"\n",
      "print \"-----\\t---------\"\n",
      "\n",
      "for x_ in [0.25, 0.5, 0.75, 1]:\n",
      "    vlines( x=x_, ymin=-1.5, ymax=sat(x_), color='green', linestyle=\"dashed\" )\n",
      "    hlines( y=sat(x_), xmin=-2., xmax=x_, color='green', linestyle='dashed' )\n",
      "    \n",
      "    print \"% 5.2f\\t% 9.3f\" % ( x_, sat( x_ ) )\n",
      "\n",
      "# Plot the graph, show the figure\n",
      "plot( xs, ys )\n",
      "show()"
     ],
     "language": "python",
     "metadata": {},
     "outputs": [
      {
       "output_type": "stream",
       "stream": "stdout",
       "text": [
        "Value\tSaturated\n",
        "-----\t---------\n",
        " 0.25\t    0.258\n",
        " 0.50\t    0.494\n",
        " 0.75\t    0.691\n",
        " 1.00\t    0.845\n"
       ]
      },
      {
       "output_type": "display_data",
       "png": "[encoded data removed]"
      }
     ],
     "prompt_number": 17
    },
    {
     "cell_type": "markdown",
     "metadata": {},
     "source": [
      "We can create a factory for SaturatingSymbols using this method, and experiment with scaling of symbols to illustrate the limitation on magnitude which occurs."
     ]
    },
    {
     "cell_type": "code",
     "collapsed": false,
     "input": [
      "# Create a function which takes a parent, label and vector and returns a \n",
      "# SaturatingSymbol using our saturation function\n",
      "sat_sym_f = lambda p, l, v : SaturatingSymbol( p, l, v, sat )\n",
      "\n",
      "# Create a factory which uses this function to generate symbols\n",
      "factory = SymbolFactory( 500, vec_generate, sat_sym_f )\n",
      "\n",
      "# Create a symbol 'a'\n",
      "a = factory.new_symbol( 'a' )"
     ],
     "language": "python",
     "metadata": {},
     "outputs": [],
     "prompt_number": 18
    },
    {
     "cell_type": "markdown",
     "metadata": {},
     "source": [
      "We'll now investigate the effect of scaling on a saturated symbol."
     ]
    },
    {
     "cell_type": "code",
     "collapsed": false,
     "input": [
      "# Scale the given vector\n",
      "scales = range(1, 100)\n",
      "magnitudes = map( lambda s : a.scale( s ).magnitude(), scales )\n",
      "\n",
      "# Plot the results\n",
      "figure()\n",
      "title( \"Magnitude of a scaled SaturatingSymbol\" )\n",
      "xlabel( \"Scaling Factor\" )\n",
      "ylabel( \"Magnitude\" )\n",
      "plot( scales, magnitudes )\n",
      "show()"
     ],
     "language": "python",
     "metadata": {},
     "outputs": [
      {
       "output_type": "display_data",
       "png": "[encoded data removed]"
      }
     ],
     "prompt_number": 20
    },
    {
     "cell_type": "markdown",
     "metadata": {},
     "source": [
      "We can also show that each component saturates:"
     ]
    },
    {
     "cell_type": "code",
     "collapsed": false,
     "input": [
      "# Scale the given vector\n",
      "magnitudes_0 = map( lambda s : abs( a.scale( s ).vector()[0] ), scales )\n",
      "magnitudes_1 = map( lambda s : abs( a.scale( s ).vector()[10] ), scales )\n",
      "magnitudes_2 = map( lambda s : abs( a.scale( s ).vector()[100] ), scales )\n",
      "\n",
      "# Plot the results\n",
      "figure()\n",
      "title( \"Magnitude of some components of a scaled SaturatingSymbol\" )\n",
      "xlabel( \"Scaling Factor\" )\n",
      "ylabel( \"Magnitude of component 0\" )\n",
      "plot( scales, magnitudes_0, color='r' )\n",
      "plot( scales, magnitudes_1, color='b' )\n",
      "plot( scales, magnitudes_2, color='g' )\n",
      "show()"
     ],
     "language": "python",
     "metadata": {},
     "outputs": [
      {
       "output_type": "display_data",
       "png": "[encoded data removed]"
      }
     ],
     "prompt_number": 21
    },
    {
     "cell_type": "markdown",
     "metadata": {},
     "source": [
      "Ofcourse, there is nothing to stop you building normalising symbols:"
     ]
    },
    {
     "cell_type": "code",
     "collapsed": false,
     "input": [
      "vec_normalise = lambda v : v / vec_magnitude( v )\n",
      "sat_norm = lambda p, l, v : SaturatingSymbol( p, l, v, vec_normalise )\n",
      "\n",
      "factory = SymbolFactory( 500, vec_generate, sat_norm )\n",
      "\n",
      "a = factory.new_symbol( 'a' )\n",
      "\n",
      "# Scale the given vector\n",
      "scales = range(1, 21)\n",
      "magnitudes = map( lambda s : a.scale( s ).magnitude(), scales )\n",
      "\n",
      "# Plot the results\n",
      "figure()\n",
      "title( \"Magnitude of a scaled SaturatingSymbol\" )\n",
      "xlabel( \"Scaling Factor\" )\n",
      "ylabel( \"Magnitude\" )\n",
      "plot( scales, magnitudes )\n",
      "show()"
     ],
     "language": "python",
     "metadata": {},
     "outputs": [
      {
       "output_type": "display_data",
       "png": "[encoded data removed]"
      }
     ],
     "prompt_number": 22
    },
    {
     "cell_type": "code",
     "collapsed": false,
     "input": [],
     "language": "python",
     "metadata": {},
     "outputs": [],
     "prompt_number": 22
    }
   ],
   "metadata": {}
  }
 ]
}